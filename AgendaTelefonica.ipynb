{
  "nbformat": 4,
  "nbformat_minor": 0,
  "metadata": {
    "colab": {
      "name": "AgendaTelefonica.ipynb",
      "provenance": [],
      "collapsed_sections": [
        "3MY6j0ajRocj"
      ]
    },
    "kernelspec": {
      "name": "python3",
      "display_name": "Python 3"
    },
    "language_info": {
      "name": "python"
    }
  },
  "cells": [
    {
      "cell_type": "markdown",
      "source": [
        "***Bloco de menu do programa:***"
      ],
      "metadata": {
        "id": "3MY6j0ajRocj"
      }
    },
    {
      "cell_type": "code",
      "source": [
        "print('=============================================== AGENDA DE CONTATOS ====================================================')\n",
        "print('\\n')\n",
        "print('1 - Inserir novo contato;')\n",
        "print('2 - Consultar contato;')\n",
        "print('3 - Remover contato;')\n",
        "print('4 - Alterar dados de contato;')\n",
        "print('5 - Relatório de todos os contatos cadastrados;')\n",
        "print('\\n')\n",
        "\n",
        "opcao = int(input(\"Digite a opção: \"))\n",
        "\n",
        "agenda = {}"
      ],
      "metadata": {
        "colab": {
          "base_uri": "https://localhost:8080/",
          "height": 0
        },
        "id": "TrCOpaBcRif5",
        "outputId": "53234b59-6a91-4525-f770-c0e9804cc8f4"
      },
      "execution_count": 26,
      "outputs": [
        {
          "name": "stdout",
          "output_type": "stream",
          "text": [
            "=============================================== AGENDA DE CONTATOS ====================================================\n",
            "\n",
            "\n",
            "1 - Inserir novo contato;\n",
            "2 - Consultar contato;\n",
            "3 - Remover contato;\n",
            "4 - Alterar dados de contato;\n",
            "5 - Relatório de todos os contatos cadastrados;\n",
            "\n",
            "\n",
            "Digite a opção: 1\n"
          ]
        }
      ]
    },
    {
      "cell_type": "markdown",
      "source": [
        "***Bloco de cadastro de contatos:***"
      ],
      "metadata": {
        "id": "KHKfplIRUIBn"
      }
    },
    {
      "cell_type": "code",
      "source": [
        "nome_usuario = input(\"Nome do contato: \")\n",
        "email_usuario = input(\"E-mail do contato \")\n",
        "twitter_usuario = input(\"Conta de usuário do Twitter: \")\n",
        "instagram_usuario = input(\"Conta de usuário do Instagram: \")\n",
        "\n",
        "agenda[nome_usuario] = [email_usuario, twitter_usuario, instagram_usuario]\n",
        "print(\"Contato cadastrado com sucesso!\")\n",
        "\n",
        "print(agenda)"
      ],
      "metadata": {
        "colab": {
          "base_uri": "https://localhost:8080/",
          "height": 0
        },
        "id": "UfpP5yW2R6xh",
        "outputId": "d53dbbc4-95d2-471a-b710-a7aa201bb4f8"
      },
      "execution_count": 35,
      "outputs": [
        {
          "output_type": "stream",
          "name": "stdout",
          "text": [
            "Nome do contato: Amanda Dias\n",
            "E-mail do contato amandias@gmail.com\n",
            "Conta de usuário do Twitter: @dias_amand\n",
            "Conta de usuário do Instagram: amanda_d\n",
            "Contato cadastrado com sucesso!\n",
            "{'Alex Medeiros': ['alexmedeiros@gmail.com', '@alexmedeiros_23', '@medeiros_alex95'], 'Carol Siqueira': ['carolsiqueira@gmail.com', '@carolsqr', '@carolsiqueira_21'], 'Luiza Santana': ['lzsantana@gmail.com', '@luizastn', '@santana_luiza'], 'Felipe Souto': ['flpsouto@gmail.com', '@st_flp', '@felipsout'], 'Marcelo Luz': ['marceloluz@gmail.com', '@mrcl_lz', '@luz_mar'], 'Joana Guimarães': ['joana_guima@gmail.com', '@jgmres', '@guima_joana'], 'Amanda Dias': ['amandias@gmail.com', '@dias_amand', 'amanda_d']}\n"
          ]
        }
      ]
    },
    {
      "cell_type": "markdown",
      "source": [
        "***Bloco de consulta dos dados a partir do nome:***"
      ],
      "metadata": {
        "id": "nukhxPyMXBXi"
      }
    },
    {
      "cell_type": "code",
      "source": [
        "consulta_contato = input(\"Pesquisar contato: \")\n",
        "if consulta_contato in agenda:\n",
        "  print(f\"Contato encontrado! Nome {consulta_contato}, e seus dados seguem abaixo: \")\n",
        "  print(agenda[consulta_contato])\n",
        "\n",
        "else:\n",
        "  print('Contato não encontrado.')"
      ],
      "metadata": {
        "colab": {
          "base_uri": "https://localhost:8080/",
          "height": 0
        },
        "id": "QDSnZtUFXdAE",
        "outputId": "4bd459be-8687-41f6-892d-f58d4eb8b41a"
      },
      "execution_count": 36,
      "outputs": [
        {
          "output_type": "stream",
          "name": "stdout",
          "text": [
            "Pesquisar contato: Alex Medeiros\n",
            "Contato encontrado! Nome Alex Medeiros, e seus dados seguem abaixo: \n",
            "['alexmedeiros@gmail.com', '@alexmedeiros_23', '@medeiros_alex95']\n"
          ]
        }
      ]
    },
    {
      "cell_type": "markdown",
      "source": [
        "***Bloco de remoção dos dados a partir do nome:***"
      ],
      "metadata": {
        "id": "vuXD4DuFh6_U"
      }
    },
    {
      "cell_type": "code",
      "source": [
        "remover_contato = input(\"Inserir o nome do cliente que será removido do cadastro: \")\n",
        "\n",
        "if remover_contato in agenda:\n",
        "  agenda.pop(remover_contato)\n",
        "  print(\"Contato removido com sucesso!\")\n",
        "else:\n",
        "  print('Contato não encontrado.')\n",
        "\n",
        "print(agenda)"
      ],
      "metadata": {
        "colab": {
          "base_uri": "https://localhost:8080/",
          "height": 0
        },
        "id": "ugrXNl-FiD9z",
        "outputId": "5c2d4e07-3dc4-4940-eccb-a4b1e4f227d4"
      },
      "execution_count": 37,
      "outputs": [
        {
          "output_type": "stream",
          "name": "stdout",
          "text": [
            "Inserir o nome do cliente que será removido do cadastro: Marcelo Luz\n",
            "Contato removido com sucesso!\n",
            "{'Alex Medeiros': ['alexmedeiros@gmail.com', '@alexmedeiros_23', '@medeiros_alex95'], 'Carol Siqueira': ['carolsiqueira@gmail.com', '@carolsqr', '@carolsiqueira_21'], 'Luiza Santana': ['lzsantana@gmail.com', '@luizastn', '@santana_luiza'], 'Felipe Souto': ['flpsouto@gmail.com', '@st_flp', '@felipsout'], 'Joana Guimarães': ['joana_guima@gmail.com', '@jgmres', '@guima_joana'], 'Amanda Dias': ['amandias@gmail.com', '@dias_amand', 'amanda_d']}\n"
          ]
        }
      ]
    },
    {
      "cell_type": "markdown",
      "source": [
        "***Bloco de alteração dos dados:***"
      ],
      "metadata": {
        "id": "vKA_u5xm3tth"
      }
    },
    {
      "cell_type": "code",
      "source": [
        "nome_alteracao = input('Nome do contato para alteração: ')\n",
        "\n",
        "if nome_alteracao in agenda.keys():\n",
        "  print('1 - Alterar e-mail;')\n",
        "  print('2 - Alterar conta do Twitter;')\n",
        "  print('3 - Alterar conta do Instagram;')\n",
        "\n",
        "  op_altera = int(input(\"Digite a opção desejada: \"))\n",
        "  \n",
        "  if op_altera == 1:\n",
        "    novo_email = input(\"Digite o novo e-mail do contato: \")\n",
        "    agenda[nome_alteracao][0] = novo_email\n",
        "\n",
        "  elif op_altera == 2:\n",
        "    novo_twt = input(\"Digite a nova conta de Twitter do contato: \")\n",
        "    agenda[nome_alteracao][1] = novo_twt\n",
        "\n",
        "  elif op_altera == 3:\n",
        "    novo_inst = input(\"Digite a nova conta de Instagram do contato: \")\n",
        "    agenda[nome_alteracao][2] = novo_inst\n",
        "\n",
        "  else:\n",
        "    print(\"Número incorreto.\")\n",
        "\n",
        "else:\n",
        "  print(\"Contato não cadastrado.\")\n",
        "\n",
        "print(agenda)"
      ],
      "metadata": {
        "colab": {
          "base_uri": "https://localhost:8080/",
          "height": 0
        },
        "id": "KMDzkOCR33pQ",
        "outputId": "90d80bf1-11a2-47da-cf2d-b1bcf971b229"
      },
      "execution_count": 38,
      "outputs": [
        {
          "output_type": "stream",
          "name": "stdout",
          "text": [
            "Nome do contato para alteração: Luiza Santana\n",
            "1 - Alterar e-mail;\n",
            "2 - Alterar conta do Twitter;\n",
            "3 - Alterar conta do Instagram;\n",
            "Digite a opção desejada: 2\n",
            "Digite a nova conta de Twitter do contato: @luizasantana_23\n",
            "{'Alex Medeiros': ['alexmedeiros@gmail.com', '@alexmedeiros_23', '@medeiros_alex95'], 'Carol Siqueira': ['carolsiqueira@gmail.com', '@carolsqr', '@carolsiqueira_21'], 'Luiza Santana': ['lzsantana@gmail.com', '@luizasantana_23', '@santana_luiza'], 'Felipe Souto': ['flpsouto@gmail.com', '@st_flp', '@felipsout'], 'Joana Guimarães': ['joana_guima@gmail.com', '@jgmres', '@guima_joana'], 'Amanda Dias': ['amandias@gmail.com', '@dias_amand', 'amanda_d']}\n"
          ]
        }
      ]
    },
    {
      "cell_type": "markdown",
      "source": [
        "***Bloco para adição de 2 ou mais contatos:***"
      ],
      "metadata": {
        "id": "3X12g8BySJho"
      }
    },
    {
      "cell_type": "code",
      "source": [
        "def add_contatos(nome_novo_contato, email_novo_contato, twt_novo_contato, inst_novo_contato):\n",
        "  agenda[nome_novo_contato] = [email_novo_contato, twt_novo_contato, inst_novo_contato]\n",
        "  "
      ],
      "metadata": {
        "id": "xw00ekXpSPwv"
      },
      "execution_count": 31,
      "outputs": []
    },
    {
      "cell_type": "code",
      "source": [
        "qtd_contatos = int(input(\"Quantos contatos você quer adicionar? \"))\n",
        "for i in range(qtd_contatos):\n",
        "  nome_novo_contato = input(\"Nome do novo contato: \")\n",
        "  email_novo_contato = input(\"E-mail do novo contato: \")\n",
        "  twt_novo_contato = input(\"Conta de twitter do novo contato: \")\n",
        "  inst_novo_contato = input(\"Conta de instagram do novo contato: \")\n",
        "  add_contatos(nome_novo_contato, email_novo_contato, twt_novo_contato, inst_novo_contato)\n",
        "\n",
        "print(agenda)"
      ],
      "metadata": {
        "colab": {
          "base_uri": "https://localhost:8080/",
          "height": 0
        },
        "id": "ng2dhJeUmMYc",
        "outputId": "fd994088-1751-4dd4-f4f5-547b7012ed0a"
      },
      "execution_count": 32,
      "outputs": [
        {
          "output_type": "stream",
          "name": "stdout",
          "text": [
            "Quantos contatos você quer adicionar? 5\n",
            "Nome do novo contato: Carol Siqueira\n",
            "E-mail do novo contato: carolsiqueira@gmail.com\n",
            "Conta de twitter do novo contato: @carolsqr\n",
            "Conta de instagram do novo contato: @carolsiqueira_21\n",
            "Nome do novo contato: Amanda Dias\n",
            "E-mail do novo contato: diasamanda@gmail.com\n",
            "Conta de twitter do novo contato: @amandias\n",
            "Conta de instagram do novo contato: @dias_amanda\n",
            "Nome do novo contato: Luiza Santana\n",
            "E-mail do novo contato: lzsantana@gmail.com\n",
            "Conta de twitter do novo contato: @luizastn\n",
            "Conta de instagram do novo contato: @santana_luiza\n",
            "Nome do novo contato: Felipe Souto\n",
            "E-mail do novo contato: flpsouto@gmail.com\n",
            "Conta de twitter do novo contato: @st_flp\n",
            "Conta de instagram do novo contato: @felipsout\n",
            "Nome do novo contato: Marcelo Luz\n",
            "E-mail do novo contato: marceloluz@gmail.com\n",
            "Conta de twitter do novo contato: @mrcl_lz\n",
            "Conta de instagram do novo contato: @luz_mar\n",
            "{'Alex Medeiros': ['alexmedeiros@gmail.com', '@alexmedeiros_23', '@medeiros_alex95'], 'Carol Siqueira': ['carolsiqueira@gmail.com', '@carolsqr', '@carolsiqueira_21'], 'Amanda Dias': ['diasamanda@gmail.com', '@amandias', '@dias_amanda'], 'Luiza Santana': ['lzsantana@gmail.com', '@luizastn', '@santana_luiza'], 'Felipe Souto': ['flpsouto@gmail.com', '@st_flp', '@felipsout'], 'Marcelo Luz': ['marceloluz@gmail.com', '@mrcl_lz', '@luz_mar']}\n"
          ]
        }
      ]
    },
    {
      "cell_type": "markdown",
      "source": [
        "***Transformando os blocos de código anteriores em funções:***"
      ],
      "metadata": {
        "id": "QvqF-oKq4WqT"
      }
    },
    {
      "cell_type": "code",
      "source": [
        "#Cadastro de Contatos: \n",
        "\n",
        "def novo_contato(nome_usuario, email_usuario, twitter_usuario, instagram_usuario):\n",
        "    agenda[nome_usuario] = [email_usuario, twitter_usuario, instagram_usuario]\n",
        "    print(\"Contato adicionado com sucesso! \")\n",
        "  \n",
        "nome_usuario = input(\"Nome do contato: \")\n",
        "email_usuario = input(\"E-mail do contato \")\n",
        "twitter_usuario = input(\"Conta de usuário do Twitter: \")\n",
        "instagram_usuario = input(\"Conta de usuário do Instagram: \")\n",
        "novo_contato(nome_usuario, email_usuario, twitter_usuario, instagram_usuario)\n",
        "\n",
        "print(agenda)"
      ],
      "metadata": {
        "colab": {
          "base_uri": "https://localhost:8080/",
          "height": 0
        },
        "id": "1d8ks1Aw4cNd",
        "outputId": "44a8ef28-bf18-4056-d1dd-0d3bb40370fd"
      },
      "execution_count": 45,
      "outputs": [
        {
          "output_type": "stream",
          "name": "stdout",
          "text": [
            "Nome do contato: João Santos\n",
            "E-mail do contato joaosantos@gmail.com\n",
            "Conta de usuário do Twitter: @santosjoao\n",
            "Conta de usuário do Instagram: @jsantos\n",
            "Contato adicionado com sucesso! \n",
            "{'Alex Medeiros': ['alexmedeiros@gmail.com', '@alexmedeiros_23', '@medeiros_alex95'], 'Carol Siqueira': ['carolsiqueira@gmail.com', '@carolsqr', '@carolsiqueira_21'], 'Luiza Santana': ['lzsantana@gmail.com', '@luizasantana_23', '@santana_luiza'], 'Felipe Souto': ['flpsouto@gmail.com', '@st_flp', '@felipsout'], 'Joana Guimarães': ['joana_guima@gmail.com', '@jgmres', '@guima_joana'], 'Amanda Dias': ['amandias@gmail.com', '@dias_amand', 'amanda_d'], 'João Santos': ['joaosantos@gmail.com', '@santosjoao', '@jsantos']}\n"
          ]
        }
      ]
    },
    {
      "cell_type": "code",
      "source": [
        "#Função para consultar contatos:\n",
        "\n",
        "def consulta (consulta_contato):\n",
        "  if consulta_contato in agenda:\n",
        "    print(f\"Contato encontrado! Nome {consulta_contato}, e seus dados seguem abaixo: \")\n",
        "    print(agenda[consulta_contato])\n",
        "  else:\n",
        "    print('Cliente não encontrado.')\n",
        "\n",
        "consulta_contato = input(\"Pesquisar contato: \")\n",
        "consulta(consulta_contato)"
      ],
      "metadata": {
        "colab": {
          "base_uri": "https://localhost:8080/",
          "height": 0
        },
        "id": "ob78aJMBRE37",
        "outputId": "d835f90f-cc28-4246-d302-ef1013669734"
      },
      "execution_count": 42,
      "outputs": [
        {
          "output_type": "stream",
          "name": "stdout",
          "text": [
            "Pesquisar contato: Felipe Souto\n",
            "Contato encontrado! Nome Felipe Souto, e seus dados seguem abaixo: \n",
            "['flpsouto@gmail.com', '@st_flp', '@felipsout']\n"
          ]
        }
      ]
    },
    {
      "cell_type": "code",
      "source": [
        "#Função para remover contatos:\n",
        "\n",
        "def remover(remover_contato):\n",
        "  if remover_contato in agenda:\n",
        "    agenda.pop(remover_contato)\n",
        "    print(\"Contato removido com sucesso!\")\n",
        "  else:\n",
        "    print('Contato não encontrado.')\n",
        "\n",
        "remover_contato = input(\"Inserir o nome do cliente que será removido do cadastro: \")\n",
        "remover(remover_contato)\n",
        "print(agenda)"
      ],
      "metadata": {
        "colab": {
          "base_uri": "https://localhost:8080/",
          "height": 0
        },
        "id": "MxhVMttISKff",
        "outputId": "434cd997-dfd4-4cd0-c7c0-21c8caaf628d"
      },
      "execution_count": 85,
      "outputs": [
        {
          "output_type": "stream",
          "name": "stdout",
          "text": [
            "Inserir o nome do cliente que será removido do cadastro: Lucas\n",
            "Contato não encontrado.\n",
            "{'Alex Medeiros': ['alexmedeiros@gmail.com', '@alexmedeiros_23', '@medeiros_alex95'], 'Carol Siqueira': ['carolsiqueira@gmail.com', '@carolsqr', '@carolsiqueira_21'], 'Luiza Santana': ['lzsantana@gmail.com', '@luizasantana_23', '@santana_luiza'], 'Felipe Souto': ['flpsouto@gmail.com', '@st_flp', '@felipsout'], 'Joana Guimarães': ['jguimaraes@gmail.com', '@jgmres', '@guima_joana'], 'Amanda Dias': ['amandias@gmail.com', '@dias_amand', 'amanda_d']}\n"
          ]
        }
      ]
    },
    {
      "cell_type": "code",
      "source": [
        "#Função para alterar dados dos contatos:\n",
        "\n",
        "def altera(nome_alteracao):\n",
        "\n",
        "  nome_alteracao = input('Nome do contato para alteração: ')\n",
        "\n",
        "  if nome_alteracao in agenda.keys():\n",
        "    print('1 - Alterar e-mail;')\n",
        "    print('2 - Alterar conta do Twitter;')\n",
        "    print('3 - Alterar conta do Instagram;')\n",
        "\n",
        "    op_altera = int(input(\"Digite a opção desejada: \"))\n",
        "  \n",
        "    if op_altera == 1:\n",
        "      novo_email = input(\"Digite o novo e-mail do contato: \")\n",
        "      agenda[nome_alteracao][0] = novo_email\n",
        "\n",
        "    elif op_altera == 2:\n",
        "      novo_twt = input(\"Digite a nova conta de Twitter do contato: \")\n",
        "      agenda[nome_alteracao][1] = novo_twt\n",
        "\n",
        "    elif op_altera == 3:\n",
        "      novo_inst = input(\"Digite a nova conta de Instagram do contato: \")\n",
        "      agenda[nome_alteracao][2] = novo_inst\n",
        "\n",
        "    else:\n",
        "      print(\"Número incorreto.\")\n",
        "\n",
        "  else:\n",
        "    print(\"Contato não cadastrado.\")\n",
        "\n",
        "\n",
        "altera(nome_alteracao)\n",
        "print(agenda)"
      ],
      "metadata": {
        "colab": {
          "base_uri": "https://localhost:8080/",
          "height": 0
        },
        "id": "wrWq3sUIS6eg",
        "outputId": "019e786f-754a-4b25-f73f-9c1e2805cf2f"
      },
      "execution_count": 83,
      "outputs": [
        {
          "output_type": "stream",
          "name": "stdout",
          "text": [
            "Nome do contato para alteração: Joana Guimarães\n",
            "1 - Alterar e-mail;\n",
            "2 - Alterar conta do Twitter;\n",
            "3 - Alterar conta do Instagram;\n",
            "Digite a opção desejada: 1\n",
            "Digite o novo e-mail do contato: jguimaraes@gmail.com\n",
            "{'Alex Medeiros': ['alexmedeiros@gmail.com', '@alexmedeiros_23', '@medeiros_alex95'], 'Carol Siqueira': ['carolsiqueira@gmail.com', '@carolsqr', '@carolsiqueira_21'], 'Luiza Santana': ['lzsantana@gmail.com', '@luizasantana_23', '@santana_luiza'], 'Felipe Souto': ['flpsouto@gmail.com', '@st_flp', '@felipsout'], 'Joana Guimarães': ['jguimaraes@gmail.com', '@jgmres', '@guima_joana'], 'Amanda Dias': ['amandias@gmail.com', '@dias_amand', 'amanda_d']}\n"
          ]
        }
      ]
    },
    {
      "cell_type": "code",
      "source": [
        "#Função para gerar relatório:\n",
        "\n",
        "def relatorio(agenda):\n",
        "  print(\"Nome \\t\\t\\t\\t E-mail \\t\\t\\t\\t Twitter \\t\\t\\t\\t Instagram\\n\")\n",
        "  for i in agenda.keys():\n",
        "    print(\"{} \\t\\t\\t {} \\t\\t\\t {} \\t\\t\\t {}\".format(i, agenda[i][0], agenda[i][1], agenda[i][2]))\n",
        "\n",
        "relatorio(agenda)"
      ],
      "metadata": {
        "colab": {
          "base_uri": "https://localhost:8080/",
          "height": 0
        },
        "id": "GXbcPp-GV7eU",
        "outputId": "eb9cbd2f-e8d9-4a27-a329-d23a9857b269"
      },
      "execution_count": 84,
      "outputs": [
        {
          "output_type": "stream",
          "name": "stdout",
          "text": [
            "Nome \t\t\t\t E-mail \t\t\t\t Twitter \t\t\t\t Instagram\n",
            "\n",
            "Alex Medeiros \t\t\t alexmedeiros@gmail.com \t\t\t @alexmedeiros_23 \t\t\t @medeiros_alex95\n",
            "Carol Siqueira \t\t\t carolsiqueira@gmail.com \t\t\t @carolsqr \t\t\t @carolsiqueira_21\n",
            "Luiza Santana \t\t\t lzsantana@gmail.com \t\t\t @luizasantana_23 \t\t\t @santana_luiza\n",
            "Felipe Souto \t\t\t flpsouto@gmail.com \t\t\t @st_flp \t\t\t @felipsout\n",
            "Joana Guimarães \t\t\t jguimaraes@gmail.com \t\t\t @jgmres \t\t\t @guima_joana\n",
            "Amanda Dias \t\t\t amandias@gmail.com \t\t\t @dias_amand \t\t\t amanda_d\n"
          ]
        }
      ]
    },
    {
      "cell_type": "code",
      "source": [
        "#Função para salvar todos os contatatos:\n",
        "\n",
        "def salvar_contatos(agenda):\n",
        "  for i in agenda.keys():\n",
        "    print(i, agenda[i][0] ,agenda[i][1], agenda[i][2], sep = \", \")\n",
        "\n",
        "salvar_contatos(agenda)"
      ],
      "metadata": {
        "colab": {
          "base_uri": "https://localhost:8080/",
          "height": 0
        },
        "id": "b6f-MDsIaLP0",
        "outputId": "c36ab07b-9cf3-4b9e-95d9-b70aa03751b7"
      },
      "execution_count": 74,
      "outputs": [
        {
          "output_type": "stream",
          "name": "stdout",
          "text": [
            "Alex Medeiros, alexmedeiros@gmail.com, @alexmedeiros_23, @medeiros_alex95\n",
            "Carol Siqueira, carolsiqueira@gmail.com, @carolsqr, @carolsiqueira_21\n",
            "Luiza Santana, lzsantana@gmail.com, @luizasantana_23, @santana_luiza\n",
            "Felipe Souto, flpsouto@gmail.com, @st_flp, @felipsout\n",
            "Joana Guimarães, guimaraesjoana@gmail.com, @jgmres, @guima_joana\n",
            "Amanda Dias, amandias@gmail.com, @dias_amand, amanda_d\n"
          ]
        }
      ]
    }
  ]
}